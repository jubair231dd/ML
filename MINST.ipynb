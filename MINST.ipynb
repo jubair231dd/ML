{
  "nbformat": 4,
  "nbformat_minor": 0,
  "metadata": {
    "colab": {
      "provenance": [],
      "authorship_tag": "ABX9TyOVWof4MBXc0IbFVac/Zt90",
      "include_colab_link": true
    },
    "kernelspec": {
      "name": "python3",
      "display_name": "Python 3"
    },
    "language_info": {
      "name": "python"
    },
    "gpuClass": "standard"
  },
  "cells": [
    {
      "cell_type": "markdown",
      "metadata": {
        "id": "view-in-github",
        "colab_type": "text"
      },
      "source": [
        "<a href=\"https://colab.research.google.com/github/jubair231dd/ML/blob/main/MINST.ipynb\" target=\"_parent\"><img src=\"https://colab.research.google.com/assets/colab-badge.svg\" alt=\"Open In Colab\"/></a>"
      ]
    },
    {
      "cell_type": "markdown",
      "source": [
        "# Importing libaries"
      ],
      "metadata": {
        "id": "97tv-KYf49nU"
      }
    },
    {
      "cell_type": "code",
      "execution_count": null,
      "metadata": {
        "colab": {
          "base_uri": "https://localhost:8080/"
        },
        "id": "Rit9iT63zuGx",
        "outputId": "d1149e65-029e-41bc-f4d6-1d549f42af6b"
      },
      "outputs": [
        {
          "output_type": "stream",
          "name": "stdout",
          "text": [
            "Using PyTorch version: 1.13.1+cu116  Device: cuda\n"
          ]
        }
      ],
      "source": [
        "%matplotlib inline\n",
        "\n",
        "import torch\n",
        "import torch.nn as nn\n",
        "import torch.nn.functional as F\n",
        "from torchvision import datasets, transforms\n",
        "\n",
        "import numpy as np\n",
        "import matplotlib.pyplot as plt\n",
        "\n",
        "device = 'cuda' if torch.cuda.is_available() else 'cpu'\n",
        "    \n",
        "print('Using PyTorch version:', torch.__version__ , ' Device:', device)"
      ]
    },
    {
      "cell_type": "markdown",
      "source": [
        "## Data\n",
        "Next we'll load the MNIST data. First time we may have to download the data, which can take a while.\n",
        "\n",
        "Note that we are here using the MNIST test data for validation, instead of for testing the final model."
      ],
      "metadata": {
        "id": "rNCJp-IY5LhE"
      }
    },
    {
      "cell_type": "code",
      "source": [
        "batch_size = 32\n",
        "\n",
        "train_dataset = datasets.MNIST('./data', \n",
        "                               train=True, \n",
        "                               download=True, \n",
        "                               transform=transforms.ToTensor())\n",
        "\n",
        "validation_dataset = datasets.MNIST('./data', \n",
        "                                    train=False, \n",
        "                                    transform=transforms.ToTensor())\n",
        "\n",
        "train_loader = torch.utils.data.DataLoader(dataset=train_dataset, \n",
        "                                           batch_size=batch_size, \n",
        "                                           shuffle=True)\n",
        "\n",
        "\n",
        "validation_loader = torch.utils.data.DataLoader(dataset=validation_dataset, \n",
        "                                                batch_size=batch_size, \n",
        "                                                shuffle=False)"
      ],
      "metadata": {
        "id": "L2xWgPKf3g0C"
      },
      "execution_count": null,
      "outputs": []
    },
    {
      "cell_type": "markdown",
      "source": [
        "The train and test data are provided via data loaders that provide iterators over the datasets. The first element of training data (X_train) is a 4th-order tensor of size (batch_size, 1, 28, 28), i.e. it consists of a batch of images of size 1x28x28 pixels. y_train is a vector containing the correct classes (\"0\", \"1\", ..., \"9\") for each training digit."
      ],
      "metadata": {
        "id": "yVyJp0mo9CyN"
      }
    },
    {
      "cell_type": "code",
      "source": [
        "for (X_train, y_train) in train_loader:\n",
        "    print('X_train:', X_train.size(), 'type:', X_train.type())\n",
        "    print('y_train:', y_train.size(), 'type:', y_train.type())\n",
        "    break"
      ],
      "metadata": {
        "colab": {
          "base_uri": "https://localhost:8080/"
        },
        "id": "kP2NayyF3gxw",
        "outputId": "ff9513f7-3a9b-4c20-beb6-0102ddf3745b"
      },
      "execution_count": null,
      "outputs": [
        {
          "output_type": "stream",
          "name": "stdout",
          "text": [
            "X_train: torch.Size([32, 1, 28, 28]) type: torch.FloatTensor\n",
            "y_train: torch.Size([32]) type: torch.LongTensor\n"
          ]
        }
      ]
    },
    {
      "cell_type": "markdown",
      "source": [
        "Here are the first 10 training digits:"
      ],
      "metadata": {
        "id": "Pb-55xBM9Xjv"
      }
    },
    {
      "cell_type": "code",
      "source": [
        "pltsize=1\n",
        "plt.figure(figsize=(10*pltsize, pltsize))\n",
        "\n",
        "for i in range(10):\n",
        "    plt.subplot(1,10,i+1)\n",
        "    plt.axis('off')\n",
        "    plt.imshow(X_train[i,:,:,:].numpy().reshape(28,28), cmap=\"gray_r\")\n",
        "    plt.title('Class: '+str(y_train[i].item()))"
      ],
      "metadata": {
        "colab": {
          "base_uri": "https://localhost:8080/",
          "height": 94
        },
        "id": "maNq5MtZ3gvG",
        "outputId": "51964887-4e95-4725-a494-5afbfc71d3f6"
      },
      "execution_count": null,
      "outputs": [
        {
          "output_type": "display_data",
          "data": {
            "text/plain": [
              "<Figure size 720x72 with 10 Axes>"
            ],
            "image/png": "[encoded data removed]"
          },
          "metadata": {
            "needs_background": "light"
          }
        }
      ]
    },
    {
      "cell_type": "markdown",
      "source": [
        "MLP network definition\n",
        "Let's define the network as a Python class. We have to write the __init__() and forward() methods, and PyTorch will automatically generate a backward() method for computing the gradients for the backward pass.\n",
        "\n",
        "Finally, we define an optimizer to update the model parameters based on the computed gradients. We select stochastic gradient descent (with momentum) as the optimization algorithm, and set learning rate to 0.01. Note that there are several different options for the optimizer in PyTorch that we could use instead of SGD."
      ],
      "metadata": {
        "id": "ZQqUBg0o9nVA"
      }
    },
    {
      "cell_type": "code",
      "source": [
        "class Net(nn.Module):\n",
        "    def __init__(self):\n",
        "        super(Net, self).__init__()\n",
        "        self.fc1 = nn.Linear(28*28, 50)\n",
        "        self.fc1_drop = nn.Dropout(0.2)\n",
        "        self.fc2 = nn.Linear(50, 50)\n",
        "        self.fc2_drop = nn.Dropout(0.2)\n",
        "        self.fc3 = nn.Linear(50, 10)\n",
        "\n",
        "    def forward(self, x):\n",
        "        x = x.view(-1, 28*28)\n",
        "        # print(x)\n",
        "        x = F.relu(self.fc1(x))\n",
        "        x = self.fc1_drop(x)\n",
        "        x = F.relu(self.fc2(x))\n",
        "        x = self.fc2_drop(x)\n",
        "        return F.log_softmax(self.fc3(x), dim=1)\n",
        "\n",
        "model = Net().to(device)\n",
        "optimizer = torch.optim.SGD(model.parameters(), lr=0.01)\n",
        "criterion = nn.CrossEntropyLoss()\n",
        "\n",
        "print(model)"
      ],
      "metadata": {
        "colab": {
          "base_uri": "https://localhost:8080/"
        },
        "id": "e762r4vJ3gs7",
        "outputId": "629cf466-952f-4f0c-aac0-993519f4d7b2"
      },
      "execution_count": null,
      "outputs": [
        {
          "output_type": "stream",
          "name": "stdout",
          "text": [
            "Net(\n",
            "  (fc1): Linear(in_features=784, out_features=50, bias=True)\n",
            "  (fc1_drop): Dropout(p=0.2, inplace=False)\n",
            "  (fc2): Linear(in_features=50, out_features=50, bias=True)\n",
            "  (fc2_drop): Dropout(p=0.2, inplace=False)\n",
            "  (fc3): Linear(in_features=50, out_features=10, bias=True)\n",
            ")\n"
          ]
        }
      ]
    },
    {
      "cell_type": "markdown",
      "source": [
        "# Learning\n",
        "Let's now define functions to train() and validate() the model."
      ],
      "metadata": {
        "id": "dcErKXMrCeKh"
      }
    },
    {
      "cell_type": "code",
      "source": [
        "def train(epoch, log_interval=200):\n",
        "    # Set model to training mode\n",
        "    model.train()\n",
        "    \n",
        "    # Loop over each batch from the training set\n",
        "    for batch_idx, (data, target) in enumerate(train_loader):\n",
        "        # Copy data to GPU if needed\n",
        "        data = data.to(device)\n",
        "        target = target.to(device)\n",
        "\n",
        "        # Zero gradient buffers\n",
        "        optimizer.zero_grad() \n",
        "        \n",
        "        # Pass data through the network\n",
        "        output = model(data)\n",
        "\n",
        "        # Calculate loss\n",
        "        loss = criterion(output, target)\n",
        "\n",
        "        # Backpropagate\n",
        "        loss.backward()\n",
        "        \n",
        "        # Update weights\n",
        "        optimizer.step()\n",
        "        \n",
        "        if batch_idx % log_interval == 0:\n",
        "            print('Train Epoch: {} [{}/{} ({:.0f}%)]\\tLoss: {:.6f}'.format(\n",
        "                epoch, batch_idx * len(data), len(train_loader.dataset),\n",
        "                100. * batch_idx / len(train_loader), loss.data.item()))"
      ],
      "metadata": {
        "id": "gHBk2YiO3gWp"
      },
      "execution_count": null,
      "outputs": []
    },
    {
      "cell_type": "code",
      "source": [
        "def validate(loss_vector, accuracy_vector):\n",
        "    model.eval()\n",
        "    val_loss, correct = 0, 0\n",
        "    for data, target in validation_loader:\n",
        "        data = data.to(device)\n",
        "        target = target.to(device)\n",
        "        output = model(data)\n",
        "        val_loss += criterion(output, target).data.item()\n",
        "        pred = output.data.max(1)[1] # get the index of the max log-probability\n",
        "        correct += pred.eq(target.data).cpu().sum()\n",
        "\n",
        "    val_loss /= len(validation_loader)\n",
        "    loss_vector.append(val_loss)\n",
        "\n",
        "    accuracy = 100. * correct.to(torch.float32) / len(validation_loader.dataset)\n",
        "    accuracy_vector.append(accuracy)\n",
        "    \n",
        "    print('\\nValidation set: Average loss: {:.4f}, Accuracy: {}/{} ({:.0f}%)\\n'.format(\n",
        "        val_loss, correct, len(validation_loader.dataset), accuracy))\n"
      ],
      "metadata": {
        "id": "-XhfqnNr3gTL"
      },
      "execution_count": null,
      "outputs": []
    },
    {
      "cell_type": "code",
      "source": [
        "\n",
        "%%time\n",
        "epochs = 15\n",
        "\n",
        "lossv, accv = [], []\n",
        "for epoch in range(1, epochs + 1):\n",
        "    train(epoch)\n",
        "    validate(lossv, accv)"
      ],
      "metadata": {
        "colab": {
          "base_uri": "https://localhost:8080/"
        },
        "id": "ZWCluulC3gNN",
        "outputId": "bb905a68-2af9-46c5-f908-303111235019"
      },
      "execution_count": null,
      "outputs": [
        {
          "output_type": "stream",
          "name": "stdout",
          "text": [
            "Train Epoch: 1 [0/60000 (0%)]\tLoss: 2.323652\n",
            "Train Epoch: 1 [6400/60000 (11%)]\tLoss: 2.230086\n",
            "Train Epoch: 1 [12800/60000 (21%)]\tLoss: 2.095607\n",
            "Train Epoch: 1 [19200/60000 (32%)]\tLoss: 1.725296\n",
            "Train Epoch: 1 [25600/60000 (43%)]\tLoss: 1.367298\n",
            "Train Epoch: 1 [32000/60000 (53%)]\tLoss: 1.082830\n",
            "Train Epoch: 1 [38400/60000 (64%)]\tLoss: 1.095152\n",
            "Train Epoch: 1 [44800/60000 (75%)]\tLoss: 0.705226\n",
            "Train Epoch: 1 [51200/60000 (85%)]\tLoss: 0.746257\n",
            "Train Epoch: 1 [57600/60000 (96%)]\tLoss: 0.434700\n",
            "\n",
            "Validation set: Average loss: 0.5047, Accuracy: 8666/10000 (87%)\n",
            "\n",
            "Train Epoch: 2 [0/60000 (0%)]\tLoss: 0.676672\n",
            "Train Epoch: 2 [6400/60000 (11%)]\tLoss: 0.567990\n",
            "Train Epoch: 2 [12800/60000 (21%)]\tLoss: 0.649180\n",
            "Train Epoch: 2 [19200/60000 (32%)]\tLoss: 0.795443\n",
            "Train Epoch: 2 [25600/60000 (43%)]\tLoss: 0.359674\n",
            "Train Epoch: 2 [32000/60000 (53%)]\tLoss: 0.454839\n",
            "Train Epoch: 2 [38400/60000 (64%)]\tLoss: 0.496732\n",
            "Train Epoch: 2 [44800/60000 (75%)]\tLoss: 0.582828\n",
            "Train Epoch: 2 [51200/60000 (85%)]\tLoss: 0.532896\n",
            "Train Epoch: 2 [57600/60000 (96%)]\tLoss: 0.937523\n",
            "\n",
            "Validation set: Average loss: 0.3464, Accuracy: 9024/10000 (90%)\n",
            "\n",
            "Train Epoch: 3 [0/60000 (0%)]\tLoss: 0.547594\n",
            "Train Epoch: 3 [6400/60000 (11%)]\tLoss: 0.511334\n",
            "Train Epoch: 3 [12800/60000 (21%)]\tLoss: 0.425297\n",
            "Train Epoch: 3 [19200/60000 (32%)]\tLoss: 0.385659\n",
            "Train Epoch: 3 [25600/60000 (43%)]\tLoss: 0.468232\n",
            "Train Epoch: 3 [32000/60000 (53%)]\tLoss: 0.352421\n",
            "Train Epoch: 3 [38400/60000 (64%)]\tLoss: 0.398125\n",
            "Train Epoch: 3 [44800/60000 (75%)]\tLoss: 0.408057\n",
            "Train Epoch: 3 [51200/60000 (85%)]\tLoss: 0.283506\n",
            "Train Epoch: 3 [57600/60000 (96%)]\tLoss: 0.301681\n",
            "\n",
            "Validation set: Average loss: 0.2903, Accuracy: 9141/10000 (91%)\n",
            "\n",
            "Train Epoch: 4 [0/60000 (0%)]\tLoss: 0.332482\n",
            "Train Epoch: 4 [6400/60000 (11%)]\tLoss: 0.250962\n",
            "Train Epoch: 4 [12800/60000 (21%)]\tLoss: 0.245270\n",
            "Train Epoch: 4 [19200/60000 (32%)]\tLoss: 0.550751\n",
            "Train Epoch: 4 [25600/60000 (43%)]\tLoss: 0.353363\n",
            "Train Epoch: 4 [32000/60000 (53%)]\tLoss: 0.566754\n",
            "Train Epoch: 4 [38400/60000 (64%)]\tLoss: 0.399732\n",
            "Train Epoch: 4 [44800/60000 (75%)]\tLoss: 0.507930\n",
            "Train Epoch: 4 [51200/60000 (85%)]\tLoss: 0.249338\n",
            "Train Epoch: 4 [57600/60000 (96%)]\tLoss: 0.287006\n",
            "\n",
            "Validation set: Average loss: 0.2566, Accuracy: 9231/10000 (92%)\n",
            "\n",
            "Train Epoch: 5 [0/60000 (0%)]\tLoss: 0.289245\n",
            "Train Epoch: 5 [6400/60000 (11%)]\tLoss: 0.274406\n",
            "Train Epoch: 5 [12800/60000 (21%)]\tLoss: 0.324466\n",
            "Train Epoch: 5 [19200/60000 (32%)]\tLoss: 0.462361\n",
            "Train Epoch: 5 [25600/60000 (43%)]\tLoss: 0.144611\n",
            "Train Epoch: 5 [32000/60000 (53%)]\tLoss: 0.178144\n",
            "Train Epoch: 5 [38400/60000 (64%)]\tLoss: 0.750296\n",
            "Train Epoch: 5 [44800/60000 (75%)]\tLoss: 0.315383\n",
            "Train Epoch: 5 [51200/60000 (85%)]\tLoss: 0.135060\n",
            "Train Epoch: 5 [57600/60000 (96%)]\tLoss: 0.337475\n",
            "\n",
            "Validation set: Average loss: 0.2325, Accuracy: 9309/10000 (93%)\n",
            "\n",
            "Train Epoch: 6 [0/60000 (0%)]\tLoss: 0.436343\n",
            "Train Epoch: 6 [6400/60000 (11%)]\tLoss: 0.453450\n",
            "Train Epoch: 6 [12800/60000 (21%)]\tLoss: 0.293420\n",
            "Train Epoch: 6 [19200/60000 (32%)]\tLoss: 0.289821\n",
            "Train Epoch: 6 [25600/60000 (43%)]\tLoss: 0.338860\n",
            "Train Epoch: 6 [32000/60000 (53%)]\tLoss: 0.510920\n",
            "Train Epoch: 6 [38400/60000 (64%)]\tLoss: 0.119807\n",
            "Train Epoch: 6 [44800/60000 (75%)]\tLoss: 0.287382\n",
            "Train Epoch: 6 [51200/60000 (85%)]\tLoss: 0.214750\n",
            "Train Epoch: 6 [57600/60000 (96%)]\tLoss: 0.270669\n",
            "\n",
            "Validation set: Average loss: 0.2124, Accuracy: 9361/10000 (94%)\n",
            "\n",
            "Train Epoch: 7 [0/60000 (0%)]\tLoss: 0.354763\n",
            "Train Epoch: 7 [6400/60000 (11%)]\tLoss: 0.271301\n",
            "Train Epoch: 7 [12800/60000 (21%)]\tLoss: 0.203961\n",
            "Train Epoch: 7 [19200/60000 (32%)]\tLoss: 0.162401\n",
            "Train Epoch: 7 [25600/60000 (43%)]\tLoss: 0.227043\n",
            "Train Epoch: 7 [32000/60000 (53%)]\tLoss: 0.432200\n",
            "Train Epoch: 7 [38400/60000 (64%)]\tLoss: 0.334874\n",
            "Train Epoch: 7 [44800/60000 (75%)]\tLoss: 0.146381\n",
            "Train Epoch: 7 [51200/60000 (85%)]\tLoss: 0.459396\n",
            "Train Epoch: 7 [57600/60000 (96%)]\tLoss: 0.370677\n",
            "\n",
            "Validation set: Average loss: 0.1931, Accuracy: 9408/10000 (94%)\n",
            "\n",
            "Train Epoch: 8 [0/60000 (0%)]\tLoss: 0.153917\n",
            "Train Epoch: 8 [6400/60000 (11%)]\tLoss: 0.493797\n",
            "Train Epoch: 8 [12800/60000 (21%)]\tLoss: 0.268633\n",
            "Train Epoch: 8 [19200/60000 (32%)]\tLoss: 0.378407\n",
            "Train Epoch: 8 [25600/60000 (43%)]\tLoss: 0.594163\n",
            "Train Epoch: 8 [32000/60000 (53%)]\tLoss: 0.236439\n",
            "Train Epoch: 8 [38400/60000 (64%)]\tLoss: 0.314700\n",
            "Train Epoch: 8 [44800/60000 (75%)]\tLoss: 0.344321\n",
            "Train Epoch: 8 [51200/60000 (85%)]\tLoss: 0.194272\n",
            "Train Epoch: 8 [57600/60000 (96%)]\tLoss: 0.179387\n",
            "\n",
            "Validation set: Average loss: 0.1801, Accuracy: 9445/10000 (94%)\n",
            "\n",
            "Train Epoch: 9 [0/60000 (0%)]\tLoss: 0.202187\n",
            "Train Epoch: 9 [6400/60000 (11%)]\tLoss: 0.468066\n",
            "Train Epoch: 9 [12800/60000 (21%)]\tLoss: 0.188440\n",
            "Train Epoch: 9 [19200/60000 (32%)]\tLoss: 0.044254\n",
            "Train Epoch: 9 [25600/60000 (43%)]\tLoss: 0.294455\n",
            "Train Epoch: 9 [32000/60000 (53%)]\tLoss: 0.057252\n",
            "Train Epoch: 9 [38400/60000 (64%)]\tLoss: 0.219505\n",
            "Train Epoch: 9 [44800/60000 (75%)]\tLoss: 0.103988\n",
            "Train Epoch: 9 [51200/60000 (85%)]\tLoss: 0.159094\n",
            "Train Epoch: 9 [57600/60000 (96%)]\tLoss: 0.112478\n",
            "\n",
            "Validation set: Average loss: 0.1701, Accuracy: 9471/10000 (95%)\n",
            "\n",
            "Train Epoch: 10 [0/60000 (0%)]\tLoss: 0.331502\n",
            "Train Epoch: 10 [6400/60000 (11%)]\tLoss: 0.149610\n",
            "Train Epoch: 10 [12800/60000 (21%)]\tLoss: 0.268231\n",
            "Train Epoch: 10 [19200/60000 (32%)]\tLoss: 0.345214\n",
            "Train Epoch: 10 [25600/60000 (43%)]\tLoss: 0.427919\n",
            "Train Epoch: 10 [32000/60000 (53%)]\tLoss: 0.259254\n",
            "Train Epoch: 10 [38400/60000 (64%)]\tLoss: 0.121734\n",
            "Train Epoch: 10 [44800/60000 (75%)]\tLoss: 0.162992\n",
            "Train Epoch: 10 [51200/60000 (85%)]\tLoss: 0.587723\n",
            "Train Epoch: 10 [57600/60000 (96%)]\tLoss: 0.268223\n",
            "\n",
            "Validation set: Average loss: 0.1605, Accuracy: 9512/10000 (95%)\n",
            "\n",
            "Train Epoch: 11 [0/60000 (0%)]\tLoss: 0.270733\n",
            "Train Epoch: 11 [6400/60000 (11%)]\tLoss: 0.154872\n",
            "Train Epoch: 11 [12800/60000 (21%)]\tLoss: 0.127856\n",
            "Train Epoch: 11 [19200/60000 (32%)]\tLoss: 0.210393\n",
            "Train Epoch: 11 [25600/60000 (43%)]\tLoss: 0.343848\n",
            "Train Epoch: 11 [32000/60000 (53%)]\tLoss: 0.166344\n",
            "Train Epoch: 11 [38400/60000 (64%)]\tLoss: 0.307507\n",
            "Train Epoch: 11 [44800/60000 (75%)]\tLoss: 0.289836\n",
            "Train Epoch: 11 [51200/60000 (85%)]\tLoss: 0.224860\n",
            "Train Epoch: 11 [57600/60000 (96%)]\tLoss: 0.253457\n",
            "\n",
            "Validation set: Average loss: 0.1518, Accuracy: 9529/10000 (95%)\n",
            "\n",
            "Train Epoch: 12 [0/60000 (0%)]\tLoss: 0.464277\n",
            "Train Epoch: 12 [6400/60000 (11%)]\tLoss: 0.158494\n",
            "Train Epoch: 12 [12800/60000 (21%)]\tLoss: 0.152954\n",
            "Train Epoch: 12 [19200/60000 (32%)]\tLoss: 0.285416\n",
            "Train Epoch: 12 [25600/60000 (43%)]\tLoss: 0.127994\n",
            "Train Epoch: 12 [32000/60000 (53%)]\tLoss: 0.198575\n",
            "Train Epoch: 12 [38400/60000 (64%)]\tLoss: 0.104696\n",
            "Train Epoch: 12 [44800/60000 (75%)]\tLoss: 0.132547\n",
            "Train Epoch: 12 [51200/60000 (85%)]\tLoss: 0.240678\n",
            "Train Epoch: 12 [57600/60000 (96%)]\tLoss: 0.071360\n",
            "\n",
            "Validation set: Average loss: 0.1441, Accuracy: 9561/10000 (96%)\n",
            "\n",
            "Train Epoch: 13 [0/60000 (0%)]\tLoss: 0.484332\n",
            "Train Epoch: 13 [6400/60000 (11%)]\tLoss: 0.261710\n",
            "Train Epoch: 13 [12800/60000 (21%)]\tLoss: 0.051523\n",
            "Train Epoch: 13 [19200/60000 (32%)]\tLoss: 0.490770\n",
            "Train Epoch: 13 [25600/60000 (43%)]\tLoss: 0.401792\n",
            "Train Epoch: 13 [32000/60000 (53%)]\tLoss: 0.188546\n",
            "Train Epoch: 13 [38400/60000 (64%)]\tLoss: 0.081886\n",
            "Train Epoch: 13 [44800/60000 (75%)]\tLoss: 0.237604\n",
            "Train Epoch: 13 [51200/60000 (85%)]\tLoss: 0.223636\n",
            "Train Epoch: 13 [57600/60000 (96%)]\tLoss: 0.087595\n",
            "\n",
            "Validation set: Average loss: 0.1391, Accuracy: 9582/10000 (96%)\n",
            "\n",
            "Train Epoch: 14 [0/60000 (0%)]\tLoss: 0.318859\n",
            "Train Epoch: 14 [6400/60000 (11%)]\tLoss: 0.086530\n",
            "Train Epoch: 14 [12800/60000 (21%)]\tLoss: 0.332779\n",
            "Train Epoch: 14 [19200/60000 (32%)]\tLoss: 0.100681\n",
            "Train Epoch: 14 [25600/60000 (43%)]\tLoss: 0.064924\n",
            "Train Epoch: 14 [32000/60000 (53%)]\tLoss: 0.243847\n",
            "Train Epoch: 14 [38400/60000 (64%)]\tLoss: 0.458083\n",
            "Train Epoch: 14 [44800/60000 (75%)]\tLoss: 0.382983\n",
            "Train Epoch: 14 [51200/60000 (85%)]\tLoss: 0.452037\n",
            "Train Epoch: 14 [57600/60000 (96%)]\tLoss: 0.093023\n",
            "\n",
            "Validation set: Average loss: 0.1356, Accuracy: 9568/10000 (96%)\n",
            "\n",
            "Train Epoch: 15 [0/60000 (0%)]\tLoss: 0.122329\n",
            "Train Epoch: 15 [6400/60000 (11%)]\tLoss: 0.364686\n",
            "Train Epoch: 15 [12800/60000 (21%)]\tLoss: 0.254625\n",
            "Train Epoch: 15 [19200/60000 (32%)]\tLoss: 0.132018\n",
            "Train Epoch: 15 [25600/60000 (43%)]\tLoss: 0.238715\n",
            "Train Epoch: 15 [32000/60000 (53%)]\tLoss: 0.127271\n",
            "Train Epoch: 15 [38400/60000 (64%)]\tLoss: 0.167072\n",
            "Train Epoch: 15 [44800/60000 (75%)]\tLoss: 0.039072\n",
            "Train Epoch: 15 [51200/60000 (85%)]\tLoss: 0.083876\n",
            "Train Epoch: 15 [57600/60000 (96%)]\tLoss: 0.155997\n",
            "\n",
            "Validation set: Average loss: 0.1317, Accuracy: 9590/10000 (96%)\n",
            "\n",
            "CPU times: user 3min 5s, sys: 1.46 s, total: 3min 6s\n",
            "Wall time: 3min 8s\n"
          ]
        }
      ]
    },
    {
      "cell_type": "code",
      "source": [
        "plt.figure(figsize=(5,3))\n",
        "plt.plot(np.arange(1,epochs+1), lossv)\n",
        "plt.title('validation loss')\n",
        "\n",
        "plt.figure(figsize=(5,3))\n",
        "plt.plot(np.arange(1,epochs+1), accv)\n",
        "plt.title('validation accuracy');"
      ],
      "metadata": {
        "colab": {
          "base_uri": "https://localhost:8080/",
          "height": 437
        },
        "id": "hFVofqqZgKXP",
        "outputId": "e939b331-fd4f-41b4-e6c0-80b35f7fdcb0"
      },
      "execution_count": null,
      "outputs": [
        {
          "output_type": "display_data",
          "data": {
            "text/plain": [
              "<Figure size 360x216 with 1 Axes>"
            ],
            "image/png": "[encoded data removed]"
          },
          "metadata": {
            "needs_background": "light"
          }
        },
        {
          "output_type": "display_data",
          "data": {
            "text/plain": [
              "<Figure size 360x216 with 1 Axes>"
            ],
            "image/png": "[encoded data removed]"
          },
          "metadata": {
            "needs_background": "light"
          }
        }
      ]
    },
    {
      "cell_type": "code",
      "source": [
        "!pip install talos"
      ],
      "metadata": {
        "colab": {
          "base_uri": "https://localhost:8080/"
        },
        "id": "MrXxEbbWjMf-",
        "outputId": "74c04ad2-4227-4ede-c1c0-533f1206c513"
      },
      "execution_count": null,
      "outputs": [
        {
          "output_type": "stream",
          "name": "stdout",
          "text": [
            "Looking in indexes: https://pypi.org/simple, https://us-python.pkg.dev/colab-wheels/public/simple/\n",
            "Collecting talos\n",
            "  Downloading talos-1.3-py3-none-any.whl (56 kB)\n",
            "\u001b[2K     \u001b[90m━━━━━━━━━━━━━━━━━━━━━━━━━━━━━━━━━━━━━━━━\u001b[0m \u001b[32m56.4/56.4 KB\u001b[0m \u001b[31m6.1 MB/s\u001b[0m eta \u001b[36m0:00:00\u001b[0m\n",
            "\u001b[?25hRequirement already satisfied: tqdm in /usr/local/lib/python3.8/dist-packages (from talos) (4.64.1)\n",
            "Collecting kerasplotlib\n",
            "  Downloading kerasplotlib-1.0-py3-none-any.whl (4.3 kB)\n",
            "Requirement already satisfied: requests in /usr/local/lib/python3.8/dist-packages (from talos) (2.25.1)\n",
            "Collecting astetik\n",
            "  Downloading astetik-1.13-py3-none-any.whl (5.4 MB)\n",
            "\u001b[2K     \u001b[90m━━━━━━━━━━━━━━━━━━━━━━━━━━━━━━━━━━━━━━━━\u001b[0m \u001b[32m5.4/5.4 MB\u001b[0m \u001b[31m92.3 MB/s\u001b[0m eta \u001b[36m0:00:00\u001b[0m\n",
            "\u001b[?25hRequirement already satisfied: statsmodels>=0.11.0 in /usr/local/lib/python3.8/dist-packages (from talos) (0.13.5)\n",
            "Collecting sklearn\n",
            "  Downloading sklearn-0.0.post1.tar.gz (3.6 kB)\n",
            "  Preparing metadata (setup.py) ... \u001b[?25l\u001b[?25hdone\n",
            "Collecting chances\n",
            "  Downloading chances-0.1.9.tar.gz (35 kB)\n",
            "  Preparing metadata (setup.py) ... \u001b[?25l\u001b[?25hdone\n",
            "Requirement already satisfied: numpy in /usr/local/lib/python3.8/dist-packages (from talos) (1.22.4)\n",
            "Collecting wrangle\n",
            "  Downloading wrangle-0.7.2-py3-none-any.whl (52 kB)\n",
            "\u001b[2K     \u001b[90m━━━━━━━━━━━━━━━━━━━━━━━━━━━━━━━━━━━━━━━━\u001b[0m \u001b[32m52.3/52.3 KB\u001b[0m \u001b[31m7.0 MB/s\u001b[0m eta \u001b[36m0:00:00\u001b[0m\n",
            "\u001b[?25hRequirement already satisfied: pandas in /usr/local/lib/python3.8/dist-packages (from talos) (1.3.5)\n",
            "Requirement already satisfied: tensorflow>=2.0.0 in /usr/local/lib/python3.8/dist-packages (from talos) (2.11.0)\n",
            "Requirement already satisfied: patsy>=0.5.2 in /usr/local/lib/python3.8/dist-packages (from statsmodels>=0.11.0->talos) (0.5.3)\n",
            "Requirement already satisfied: packaging>=21.3 in /usr/local/lib/python3.8/dist-packages (from statsmodels>=0.11.0->talos) (23.0)\n",
            "Requirement already satisfied: scipy>=1.3 in /usr/local/lib/python3.8/dist-packages (from statsmodels>=0.11.0->talos) (1.10.1)\n",
            "Requirement already satisfied: pytz>=2017.3 in /usr/local/lib/python3.8/dist-packages (from pandas->talos) (2022.7.1)\n",
            "Requirement already satisfied: python-dateutil>=2.7.3 in /usr/local/lib/python3.8/dist-packages (from pandas->talos) (2.8.2)\n",
            "Requirement already satisfied: typing-extensions>=3.6.6 in /usr/local/lib/python3.8/dist-packages (from tensorflow>=2.0.0->talos) (4.5.0)\n",
            "Requirement already satisfied: flatbuffers>=2.0 in /usr/local/lib/python3.8/dist-packages (from tensorflow>=2.0.0->talos) (23.1.21)\n",
            "Requirement already satisfied: protobuf<3.20,>=3.9.2 in /usr/local/lib/python3.8/dist-packages (from tensorflow>=2.0.0->talos) (3.19.6)\n",
            "Requirement already satisfied: wrapt>=1.11.0 in /usr/local/lib/python3.8/dist-packages (from tensorflow>=2.0.0->talos) (1.15.0)\n",
            "Requirement already satisfied: termcolor>=1.1.0 in /usr/local/lib/python3.8/dist-packages (from tensorflow>=2.0.0->talos) (2.2.0)\n",
            "Requirement already satisfied: astunparse>=1.6.0 in /usr/local/lib/python3.8/dist-packages (from tensorflow>=2.0.0->talos) (1.6.3)\n",
            "Requirement already satisfied: grpcio<2.0,>=1.24.3 in /usr/local/lib/python3.8/dist-packages (from tensorflow>=2.0.0->talos) (1.51.3)\n",
            "Requirement already satisfied: tensorflow-io-gcs-filesystem>=0.23.1 in /usr/local/lib/python3.8/dist-packages (from tensorflow>=2.0.0->talos) (0.31.0)\n",
            "Requirement already satisfied: gast<=0.4.0,>=0.2.1 in /usr/local/lib/python3.8/dist-packages (from tensorflow>=2.0.0->talos) (0.4.0)\n",
            "Requirement already satisfied: six>=1.12.0 in /usr/local/lib/python3.8/dist-packages (from tensorflow>=2.0.0->talos) (1.15.0)\n",
            "Requirement already satisfied: absl-py>=1.0.0 in /usr/local/lib/python3.8/dist-packages (from tensorflow>=2.0.0->talos) (1.4.0)\n",
            "Requirement already satisfied: setuptools in /usr/local/lib/python3.8/dist-packages (from tensorflow>=2.0.0->talos) (57.4.0)\n",
            "Requirement already satisfied: opt-einsum>=2.3.2 in /usr/local/lib/python3.8/dist-packages (from tensorflow>=2.0.0->talos) (3.3.0)\n",
            "Requirement already satisfied: tensorflow-estimator<2.12,>=2.11.0 in /usr/local/lib/python3.8/dist-packages (from tensorflow>=2.0.0->talos) (2.11.0)\n",
            "Requirement already satisfied: keras<2.12,>=2.11.0 in /usr/local/lib/python3.8/dist-packages (from tensorflow>=2.0.0->talos) (2.11.0)\n",
            "Requirement already satisfied: google-pasta>=0.1.1 in /usr/local/lib/python3.8/dist-packages (from tensorflow>=2.0.0->talos) (0.2.0)\n",
            "Requirement already satisfied: h5py>=2.9.0 in /usr/local/lib/python3.8/dist-packages (from tensorflow>=2.0.0->talos) (3.1.0)\n",
            "Requirement already satisfied: libclang>=13.0.0 in /usr/local/lib/python3.8/dist-packages (from tensorflow>=2.0.0->talos) (15.0.6.1)\n",
            "Requirement already satisfied: tensorboard<2.12,>=2.11 in /usr/local/lib/python3.8/dist-packages (from tensorflow>=2.0.0->talos) (2.11.2)\n",
            "Requirement already satisfied: seaborn in /usr/local/lib/python3.8/dist-packages (from astetik->talos) (0.11.2)\n",
            "Requirement already satisfied: IPython in /usr/local/lib/python3.8/dist-packages (from astetik->talos) (7.9.0)\n",
            "Collecting geonamescache\n",
            "  Downloading geonamescache-1.5.0-py3-none-any.whl (26.4 MB)\n",
            "\u001b[2K     \u001b[90m━━━━━━━━━━━━━━━━━━━━━━━━━━━━━━━━━━━━━━━━\u001b[0m \u001b[32m26.4/26.4 MB\u001b[0m \u001b[31m50.1 MB/s\u001b[0m eta \u001b[36m0:00:00\u001b[0m\n",
            "\u001b[?25hRequirement already satisfied: matplotlib in /usr/local/lib/python3.8/dist-packages (from kerasplotlib->talos) (3.5.3)\n",
            "Requirement already satisfied: idna<3,>=2.5 in /usr/local/lib/python3.8/dist-packages (from requests->talos) (2.10)\n",
            "Requirement already satisfied: chardet<5,>=3.0.2 in /usr/local/lib/python3.8/dist-packages (from requests->talos) (4.0.0)\n",
            "Requirement already satisfied: certifi>=2017.4.17 in /usr/local/lib/python3.8/dist-packages (from requests->talos) (2022.12.7)\n",
            "Requirement already satisfied: urllib3<1.27,>=1.21.1 in /usr/local/lib/python3.8/dist-packages (from requests->talos) (1.26.14)\n",
            "Requirement already satisfied: wheel<1.0,>=0.23.0 in /usr/local/lib/python3.8/dist-packages (from astunparse>=1.6.0->tensorflow>=2.0.0->talos) (0.38.4)\n",
            "Requirement already satisfied: markdown>=2.6.8 in /usr/local/lib/python3.8/dist-packages (from tensorboard<2.12,>=2.11->tensorflow>=2.0.0->talos) (3.4.1)\n",
            "Requirement already satisfied: google-auth-oauthlib<0.5,>=0.4.1 in /usr/local/lib/python3.8/dist-packages (from tensorboard<2.12,>=2.11->tensorflow>=2.0.0->talos) (0.4.6)\n",
            "Requirement already satisfied: tensorboard-plugin-wit>=1.6.0 in /usr/local/lib/python3.8/dist-packages (from tensorboard<2.12,>=2.11->tensorflow>=2.0.0->talos) (1.8.1)\n",
            "Requirement already satisfied: werkzeug>=1.0.1 in /usr/local/lib/python3.8/dist-packages (from tensorboard<2.12,>=2.11->tensorflow>=2.0.0->talos) (2.2.3)\n",
            "Requirement already satisfied: tensorboard-data-server<0.7.0,>=0.6.0 in /usr/local/lib/python3.8/dist-packages (from tensorboard<2.12,>=2.11->tensorflow>=2.0.0->talos) (0.6.1)\n",
            "Requirement already satisfied: google-auth<3,>=1.6.3 in /usr/local/lib/python3.8/dist-packages (from tensorboard<2.12,>=2.11->tensorflow>=2.0.0->talos) (2.16.1)\n",
            "Requirement already satisfied: prompt-toolkit<2.1.0,>=2.0.0 in /usr/local/lib/python3.8/dist-packages (from IPython->astetik->talos) (2.0.10)\n",
            "Requirement already satisfied: pickleshare in /usr/local/lib/python3.8/dist-packages (from IPython->astetik->talos) (0.7.5)\n",
            "Collecting jedi>=0.10\n",
            "  Downloading jedi-0.18.2-py2.py3-none-any.whl (1.6 MB)\n",
            "\u001b[2K     \u001b[90m━━━━━━━━━━━━━━━━━━━━━━━━━━━━━━━━━━━━━━━━\u001b[0m \u001b[32m1.6/1.6 MB\u001b[0m \u001b[31m61.9 MB/s\u001b[0m eta \u001b[36m0:00:00\u001b[0m\n",
            "\u001b[?25hRequirement already satisfied: decorator in /usr/local/lib/python3.8/dist-packages (from IPython->astetik->talos) (4.4.2)\n",
            "Requirement already satisfied: pexpect in /usr/local/lib/python3.8/dist-packages (from IPython->astetik->talos) (4.8.0)\n",
            "Requirement already satisfied: backcall in /usr/local/lib/python3.8/dist-packages (from IPython->astetik->talos) (0.2.0)\n",
            "Requirement already satisfied: pygments in /usr/local/lib/python3.8/dist-packages (from IPython->astetik->talos) (2.6.1)\n",
            "Requirement already satisfied: traitlets>=4.2 in /usr/local/lib/python3.8/dist-packages (from IPython->astetik->talos) (5.7.1)\n",
            "Requirement already satisfied: kiwisolver>=1.0.1 in /usr/local/lib/python3.8/dist-packages (from matplotlib->kerasplotlib->talos) (1.4.4)\n",
            "Requirement already satisfied: pyparsing>=2.2.1 in /usr/local/lib/python3.8/dist-packages (from matplotlib->kerasplotlib->talos) (3.0.9)\n",
            "Requirement already satisfied: pillow>=6.2.0 in /usr/local/lib/python3.8/dist-packages (from matplotlib->kerasplotlib->talos) (8.4.0)\n",
            "Requirement already satisfied: cycler>=0.10 in /usr/local/lib/python3.8/dist-packages (from matplotlib->kerasplotlib->talos) (0.11.0)\n",
            "Requirement already satisfied: fonttools>=4.22.0 in /usr/local/lib/python3.8/dist-packages (from matplotlib->kerasplotlib->talos) (4.38.0)\n",
            "Requirement already satisfied: pyasn1-modules>=0.2.1 in /usr/local/lib/python3.8/dist-packages (from google-auth<3,>=1.6.3->tensorboard<2.12,>=2.11->tensorflow>=2.0.0->talos) (0.2.8)\n",
            "Requirement already satisfied: rsa<5,>=3.1.4 in /usr/local/lib/python3.8/dist-packages (from google-auth<3,>=1.6.3->tensorboard<2.12,>=2.11->tensorflow>=2.0.0->talos) (4.9)\n",
            "Requirement already satisfied: cachetools<6.0,>=2.0.0 in /usr/local/lib/python3.8/dist-packages (from google-auth<3,>=1.6.3->tensorboard<2.12,>=2.11->tensorflow>=2.0.0->talos) (5.3.0)\n",
            "Requirement already satisfied: requests-oauthlib>=0.7.0 in /usr/local/lib/python3.8/dist-packages (from google-auth-oauthlib<0.5,>=0.4.1->tensorboard<2.12,>=2.11->tensorflow>=2.0.0->talos) (1.3.1)\n",
            "Requirement already satisfied: parso<0.9.0,>=0.8.0 in /usr/local/lib/python3.8/dist-packages (from jedi>=0.10->IPython->astetik->talos) (0.8.3)\n",
            "Requirement already satisfied: importlib-metadata>=4.4 in /usr/local/lib/python3.8/dist-packages (from markdown>=2.6.8->tensorboard<2.12,>=2.11->tensorflow>=2.0.0->talos) (6.0.0)\n",
            "Requirement already satisfied: wcwidth in /usr/local/lib/python3.8/dist-packages (from prompt-toolkit<2.1.0,>=2.0.0->IPython->astetik->talos) (0.2.6)\n",
            "Requirement already satisfied: MarkupSafe>=2.1.1 in /usr/local/lib/python3.8/dist-packages (from werkzeug>=1.0.1->tensorboard<2.12,>=2.11->tensorflow>=2.0.0->talos) (2.1.2)\n",
            "Requirement already satisfied: ptyprocess>=0.5 in /usr/local/lib/python3.8/dist-packages (from pexpect->IPython->astetik->talos) (0.7.0)\n",
            "Requirement already satisfied: zipp>=0.5 in /usr/local/lib/python3.8/dist-packages (from importlib-metadata>=4.4->markdown>=2.6.8->tensorboard<2.12,>=2.11->tensorflow>=2.0.0->talos) (3.15.0)\n",
            "Requirement already satisfied: pyasn1<0.5.0,>=0.4.6 in /usr/local/lib/python3.8/dist-packages (from pyasn1-modules>=0.2.1->google-auth<3,>=1.6.3->tensorboard<2.12,>=2.11->tensorflow>=2.0.0->talos) (0.4.8)\n",
            "Requirement already satisfied: oauthlib>=3.0.0 in /usr/local/lib/python3.8/dist-packages (from requests-oauthlib>=0.7.0->google-auth-oauthlib<0.5,>=0.4.1->tensorboard<2.12,>=2.11->tensorflow>=2.0.0->talos) (3.2.2)\n",
            "Building wheels for collected packages: chances, sklearn\n",
            "  Building wheel for chances (setup.py) ... \u001b[?25l\u001b[?25hdone\n",
            "  Created wheel for chances: filename=chances-0.1.9-py3-none-any.whl size=41609 sha256=358e316929b47ec897d8477cad182870b016139621c200efd2addbc14afe4a31\n",
            "  Stored in directory: /root/.cache/pip/wheels/bc/47/dc/208d4038848287f804b6ededf43632ba7dbea530fdb3a069e4\n",
            "  Building wheel for sklearn (setup.py) ... \u001b[?25l\u001b[?25hdone\n",
            "  Created wheel for sklearn: filename=sklearn-0.0.post1-py3-none-any.whl size=2344 sha256=19d801b4843f8fe0d8b395c0ca0f9733c52cd474d09897bd487d473cdf4f830a\n",
            "  Stored in directory: /root/.cache/pip/wheels/14/25/f7/1cc0956978ae479e75140219088deb7a36f60459df242b1a72\n",
            "Successfully built chances sklearn\n",
            "Installing collected packages: sklearn, geonamescache, jedi, chances, kerasplotlib, wrangle, astetik, talos\n",
            "Successfully installed astetik-1.13 chances-0.1.9 geonamescache-1.5.0 jedi-0.18.2 kerasplotlib-1.0 sklearn-0.0.post1 talos-1.3 wrangle-0.7.2\n"
          ]
        }
      ]
    },
    {
      "cell_type": "code",
      "source": [
        "import torch\n",
        "import torch.nn as nn\n",
        "import torch.optim as optim\n",
        "from torchvision.datasets import MNIST\n",
        "from torchvision.transforms import ToTensor\n",
        "from torch.utils.data import DataLoader\n",
        "import numpy as np\n",
        "import talos\n",
        "\n",
        "\n",
        "# Define the model\n",
        "class MyModel(nn.Module):\n",
        "    def __init__(self, units, activation):\n",
        "        super(MyModel, self).__init__()\n",
        "        self.units = units\n",
        "        self.activation = activation\n",
        "        self.flatten = nn.Flatten()\n",
        "        self.dense1 = nn.Linear(28*28, units)\n",
        "        self.dense2 = nn.Linear(units, 10)\n",
        "        \n",
        "    def forward(self, x):\n",
        "        x = self.flatten(x)\n",
        "        x = self.dense1(x)\n",
        "        x = getattr(nn, self.activation)()(x)\n",
        "        x = self.dense2(x)\n",
        "        return x\n",
        "\n",
        "\n",
        "# Define the training function\n",
        "def train(model, train_loader, optimizer, criterion):\n",
        "    model.train()\n",
        "    train_loss = 0.0\n",
        "    train_acc = 0.0\n",
        "    \n",
        "    for data, target in train_loader:\n",
        "        data = data.to(device)\n",
        "        target = target.to(device)\n",
        "        \n",
        "        optimizer.zero_grad()\n",
        "        output = model(data)\n",
        "        loss = criterion(output, target)\n",
        "        loss.backward()\n",
        "        optimizer.step()\n",
        "        \n",
        "        train_loss += loss.item() * data.size(0)\n",
        "        _, preds = torch.max(output, 1)\n",
        "        train_acc += torch.sum(preds == target.data)\n",
        "        \n",
        "    epoch_loss = train_loss / len(train_loader.dataset)\n",
        "    epoch_acc = train_acc.double() / len(train_loader.dataset)\n",
        "    \n",
        "    return epoch_loss, epoch_acc\n",
        "\n",
        "\n",
        "# Define the validation function\n",
        "def validate(model, val_loader, criterion):\n",
        "    model.eval()\n",
        "    val_loss = 0.0\n",
        "    val_acc = 0.0\n",
        "    \n",
        "    with torch.no_grad():\n",
        "        for data, target in val_loader:\n",
        "            data = data.to(device)\n",
        "            target = target.to(device)\n",
        "            output = model(data)\n",
        "            loss = criterion(output, target)\n",
        "            val_loss += loss.item() * data.size(0)\n",
        "            _, preds = torch.max(output, 1)\n",
        "            val_acc += torch.sum(preds == target.data)\n",
        "            \n",
        "    epoch_loss = val_loss / len(val_loader.dataset)\n",
        "    epoch_acc = val_acc.double() / len(val_loader.dataset)\n",
        "    \n",
        "    return epoch_loss, epoch_acc\n",
        "\n",
        "\n",
        "# Define the experiment function\n",
        "def my_model(x_train, y_train, x_val, y_val, params):\n",
        "    train_dataset = torch.utils.data.TensorDataset(x_train, y_train)\n",
        "    val_dataset = torch.utils.data.TensorDataset(x_val, y_val)\n",
        "    train_loader = torch.utils.data.DataLoader(train_dataset, batch_size=params['batch_size'], shuffle=True)\n",
        "    val_loader = torch.utils.data.DataLoader(val_dataset, batch_size=params['batch_size'], shuffle=False)\n",
        "    \n",
        "    model = MyModel(units=params['units'], activation=params['activation']).to(device)\n",
        "    criterion = getattr(nn, params['loss'])()\n",
        "    optimizer = getattr(optim, params['optimizer'])(model.parameters())\n",
        "    \n",
        "    for epoch in range(params['epochs']):\n",
        "        train_loss, train_acc = train(model, train_loader, optimizer, criterion)\n",
        "        val_loss, val_acc = validate(model, val_loader, criterion)\n",
        "        \n",
        "        # Print progress\n",
        "        if epoch % 10 == 0:\n",
        "            print(f\"Epoch: {epoch} | Train Loss: {train_loss:.5f} | Train Acc: {train_acc:.5f} | Val Loss: {val_loss:.5f} | Val Acc: {val_acc:.5f}\")\n",
        "    \n",
        "    return {'loss': val_loss, 'accuracy': val_acc}\n"
      ],
      "metadata": {
        "id": "3UpDC0SOgr5Q"
      },
      "execution_count": null,
      "outputs": []
    },
    {
      "cell_type": "code",
      "source": [],
      "metadata": {
        "id": "Z_r2J5YFjCXK"
      },
      "execution_count": null,
      "outputs": []
    }
  ]
}