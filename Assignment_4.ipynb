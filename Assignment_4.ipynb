{
  "cells": [
    {
      "cell_type": "markdown",
      "metadata": {
        "id": "view-in-github",
        "colab_type": "text"
      },
      "source": [
        "<a href=\"https://colab.research.google.com/github/jubair231dd/ML/blob/main/Assignment_4.ipynb\" target=\"_parent\"><img src=\"https://colab.research.google.com/assets/colab-badge.svg\" alt=\"Open In Colab\"/></a>"
      ]
    },
    {
      "cell_type": "markdown",
      "metadata": {
        "id": "A2KJ2Bjz5Kwd"
      },
      "source": [
        "# Download the file"
      ]
    },
    {
      "cell_type": "code",
      "execution_count": 1,
      "metadata": {
        "id": "NBasc8E74hjO"
      },
      "outputs": [],
      "source": [
        "import requests\n",
        "\n",
        "# url = \"https://www.gutenberg.org/cache/epub/11/pg11.txt\"\n",
        "# with open(\"wonderland.txt\", \"wb\") as f:\n",
        "#     f.write(response.content)\n",
        "\n",
        "url = 'https://www.gutenberg.org/cache/epub/70554/pg70554.txt'\n",
        "response = requests.get(url)\n",
        "\n",
        "with open(\"soilders_song.txt\", \"wb\") as f:\n",
        "    f.write(response.content)\n"
      ]
    },
    {
      "cell_type": "code",
      "execution_count": 3,
      "metadata": {
        "colab": {
          "base_uri": "https://localhost:8080/"
        },
        "id": "mJ1RzZiZ5J6N",
        "outputId": "dea6ae28-b852-4c03-d2da-20f9fec34b8d"
      },
      "outputs": [
        {
          "output_type": "stream",
          "name": "stdout",
          "text": [
            "317158\n",
            "['\\n', ' ', '!', '\"', '#', '$', '%', \"'\", '(', ')', '*', ',', '-', '.', '/', '0', '1', '2', '3', '4', '5', '6', '7', '8', '9', ':', ';', '?', '[', ']', 'a', 'b', 'c', 'd', 'e', 'f', 'g', 'h', 'i', 'j', 'k', 'l', 'm', 'n', 'o', 'p', 'q', 'r', 's', 't', 'u', 'v', 'w', 'x', 'y', 'z', '—', '“', '”', '•', '™', '\\ufeff']\n",
            "{'\\n': 0, ' ': 1, '!': 2, '\"': 3, '#': 4, '$': 5, '%': 6, \"'\": 7, '(': 8, ')': 9, '*': 10, ',': 11, '-': 12, '.': 13, '/': 14, '0': 15, '1': 16, '2': 17, '3': 18, '4': 19, '5': 20, '6': 21, '7': 22, '8': 23, '9': 24, ':': 25, ';': 26, '?': 27, '[': 28, ']': 29, 'a': 30, 'b': 31, 'c': 32, 'd': 33, 'e': 34, 'f': 35, 'g': 36, 'h': 37, 'i': 38, 'j': 39, 'k': 40, 'l': 41, 'm': 42, 'n': 43, 'o': 44, 'p': 45, 'q': 46, 'r': 47, 's': 48, 't': 49, 'u': 50, 'v': 51, 'w': 52, 'x': 53, 'y': 54, 'z': 55, '—': 56, '“': 57, '”': 58, '•': 59, '™': 60, '\\ufeff': 61}\n",
            "Total Characters:  317158\n",
            "Total Vocab:  62\n",
            "['\\n', ' ', '!', '\"', '#', '$', '%', \"'\", '(', ')', '*', ',', '-', '.', '/', '0', '1', '2', '3', '4', '5', '6', '7', '8', '9', ':', ';', '?', '[', ']', 'a', 'b', 'c', 'd', 'e', 'f', 'g', 'h', 'i', 'j', 'k', 'l', 'm', 'n', 'o', 'p', 'q', 'r', 's', 't', 'u', 'v', 'w', 'x', 'y', 'z', '—', '“', '”', '•', '™', '\\ufeff']\n"
          ]
        }
      ],
      "source": [
        "# load ascii text and covert to lowercase\n",
        "filename = \"soilders_song.txt\"\n",
        "raw_text = open(filename, 'r', encoding='utf-8').read()\n",
        "raw_text = raw_text.lower()\n",
        "print(len(raw_text))\n",
        " \n",
        "# create mapping of unique chars to integers\n",
        "chars = sorted(list(set(raw_text)))\n",
        "print(chars)\n",
        "char_to_int = dict((c, i) for i, c in enumerate(chars))\n",
        "print(char_to_int)\n",
        " \n",
        "# summarize the loaded data\n",
        "n_chars = len(raw_text)\n",
        "n_vocab = len(chars)\n",
        "print(\"Total Characters: \", n_chars)\n",
        "print(\"Total Vocab: \", n_vocab)\n",
        "print(chars)"
      ]
    },
    {
      "cell_type": "code",
      "execution_count": 4,
      "metadata": {
        "colab": {
          "base_uri": "https://localhost:8080/"
        },
        "id": "yC7Z4uVi5J3X",
        "outputId": "fdc6eb41-6126-4d41-ca6e-391507dec9fb"
      },
      "outputs": [
        {
          "output_type": "stream",
          "name": "stdout",
          "text": [
            "Total Patterns:  317058\n"
          ]
        }
      ],
      "source": [
        "# prepare the dataset of input to output pairs encoded as integers\n",
        "seq_length = 100\n",
        "dataX = []\n",
        "dataY = []\n",
        "for i in range(0, n_chars - seq_length, 1):\n",
        "    seq_in = raw_text[i:i + seq_length]\n",
        "    seq_out = raw_text[i + seq_length]\n",
        "    dataX.append([char_to_int[char] for char in seq_in])\n",
        "    dataY.append(char_to_int[seq_out])\n",
        "n_patterns = len(dataX)\n",
        "print(\"Total Patterns: \", n_patterns)"
      ]
    },
    {
      "cell_type": "markdown",
      "metadata": {
        "id": "XwLvnTcM8YNA"
      },
      "source": [
        "`LSTM layer is going to be used in the model, thus the input tensor should be of dimension (sample, time steps, features)`"
      ]
    },
    {
      "cell_type": "code",
      "execution_count": 6,
      "metadata": {
        "colab": {
          "base_uri": "https://localhost:8080/"
        },
        "id": "zOHzPM-S5J1U",
        "outputId": "e4c8aa0f-82c7-45a3-8435-66e8120a4bc4"
      },
      "outputs": [
        {
          "output_type": "stream",
          "name": "stdout",
          "text": [
            "torch.Size([317058, 100, 1]) torch.Size([317058])\n",
            "tensor([[[0.9839],\n",
            "         [0.7903],\n",
            "         [0.5968],\n",
            "         [0.5484],\n",
            "         [0.0161],\n",
            "         [0.7258],\n",
            "         [0.7581],\n",
            "         [0.7097],\n",
            "         [0.6290],\n",
            "         [0.5484],\n",
            "         [0.5161],\n",
            "         [0.7903],\n",
            "         [0.0161],\n",
            "         [0.5806],\n",
            "         [0.8065],\n",
            "         [0.7903],\n",
            "         [0.5484],\n",
            "         [0.6935],\n",
            "         [0.5000],\n",
            "         [0.5484],\n",
            "         [0.7581],\n",
            "         [0.5806],\n",
            "         [0.0161],\n",
            "         [0.5484],\n",
            "         [0.5000],\n",
            "         [0.7097],\n",
            "         [0.7097],\n",
            "         [0.6452],\n",
            "         [0.0161],\n",
            "         [0.7097],\n",
            "         [0.5645],\n",
            "         [0.0161],\n",
            "         [0.7742],\n",
            "         [0.6129],\n",
            "         [0.7581],\n",
            "         [0.0161],\n",
            "         [0.7581],\n",
            "         [0.6129],\n",
            "         [0.5161],\n",
            "         [0.5968],\n",
            "         [0.4839],\n",
            "         [0.7581],\n",
            "         [0.5323],\n",
            "         [0.1129],\n",
            "         [0.7742],\n",
            "         [0.0161],\n",
            "         [0.5806],\n",
            "         [0.7581],\n",
            "         [0.4839],\n",
            "         [0.6935],\n",
            "         [0.5323],\n",
            "         [0.7742],\n",
            "         [0.7097],\n",
            "         [0.6935],\n",
            "         [0.1774],\n",
            "         [0.0161],\n",
            "         [0.5000],\n",
            "         [0.8710],\n",
            "         [0.0161],\n",
            "         [0.5484],\n",
            "         [0.6613],\n",
            "         [0.5484],\n",
            "         [0.4839],\n",
            "         [0.6935],\n",
            "         [0.7097],\n",
            "         [0.7581],\n",
            "         [0.4839],\n",
            "         [0.0161],\n",
            "         [0.5968],\n",
            "         [0.2097],\n",
            "         [0.0000],\n",
            "         [0.7742],\n",
            "         [0.7903],\n",
            "         [0.7097],\n",
            "         [0.7097],\n",
            "         [0.6452],\n",
            "         [0.5484],\n",
            "         [0.0000],\n",
            "         [0.0000],\n",
            "         [0.7903],\n",
            "         [0.5968],\n",
            "         [0.6129],\n",
            "         [0.7742],\n",
            "         [0.0161],\n",
            "         [0.5484],\n",
            "         [0.5000],\n",
            "         [0.7097],\n",
            "         [0.7097],\n",
            "         [0.6452],\n",
            "         [0.0161],\n",
            "         [0.6129],\n",
            "         [0.7742],\n",
            "         [0.0161],\n",
            "         [0.5645],\n",
            "         [0.7097],\n",
            "         [0.7581],\n",
            "         [0.0161],\n",
            "         [0.7903],\n",
            "         [0.5968],\n",
            "         [0.5484]],\n",
            "\n",
            "        [[0.7903],\n",
            "         [0.5968],\n",
            "         [0.5484],\n",
            "         [0.0161],\n",
            "         [0.7258],\n",
            "         [0.7581],\n",
            "         [0.7097],\n",
            "         [0.6290],\n",
            "         [0.5484],\n",
            "         [0.5161],\n",
            "         [0.7903],\n",
            "         [0.0161],\n",
            "         [0.5806],\n",
            "         [0.8065],\n",
            "         [0.7903],\n",
            "         [0.5484],\n",
            "         [0.6935],\n",
            "         [0.5000],\n",
            "         [0.5484],\n",
            "         [0.7581],\n",
            "         [0.5806],\n",
            "         [0.0161],\n",
            "         [0.5484],\n",
            "         [0.5000],\n",
            "         [0.7097],\n",
            "         [0.7097],\n",
            "         [0.6452],\n",
            "         [0.0161],\n",
            "         [0.7097],\n",
            "         [0.5645],\n",
            "         [0.0161],\n",
            "         [0.7742],\n",
            "         [0.6129],\n",
            "         [0.7581],\n",
            "         [0.0161],\n",
            "         [0.7581],\n",
            "         [0.6129],\n",
            "         [0.5161],\n",
            "         [0.5968],\n",
            "         [0.4839],\n",
            "         [0.7581],\n",
            "         [0.5323],\n",
            "         [0.1129],\n",
            "         [0.7742],\n",
            "         [0.0161],\n",
            "         [0.5806],\n",
            "         [0.7581],\n",
            "         [0.4839],\n",
            "         [0.6935],\n",
            "         [0.5323],\n",
            "         [0.7742],\n",
            "         [0.7097],\n",
            "         [0.6935],\n",
            "         [0.1774],\n",
            "         [0.0161],\n",
            "         [0.5000],\n",
            "         [0.8710],\n",
            "         [0.0161],\n",
            "         [0.5484],\n",
            "         [0.6613],\n",
            "         [0.5484],\n",
            "         [0.4839],\n",
            "         [0.6935],\n",
            "         [0.7097],\n",
            "         [0.7581],\n",
            "         [0.4839],\n",
            "         [0.0161],\n",
            "         [0.5968],\n",
            "         [0.2097],\n",
            "         [0.0000],\n",
            "         [0.7742],\n",
            "         [0.7903],\n",
            "         [0.7097],\n",
            "         [0.7097],\n",
            "         [0.6452],\n",
            "         [0.5484],\n",
            "         [0.0000],\n",
            "         [0.0000],\n",
            "         [0.7903],\n",
            "         [0.5968],\n",
            "         [0.6129],\n",
            "         [0.7742],\n",
            "         [0.0161],\n",
            "         [0.5484],\n",
            "         [0.5000],\n",
            "         [0.7097],\n",
            "         [0.7097],\n",
            "         [0.6452],\n",
            "         [0.0161],\n",
            "         [0.6129],\n",
            "         [0.7742],\n",
            "         [0.0161],\n",
            "         [0.5645],\n",
            "         [0.7097],\n",
            "         [0.7581],\n",
            "         [0.0161],\n",
            "         [0.7903],\n",
            "         [0.5968],\n",
            "         [0.5484],\n",
            "         [0.0161]]])\n"
          ]
        }
      ],
      "source": [
        "import torch\n",
        "import torch.nn as nn\n",
        "import torch.optim as optim\n",
        "import numpy as np\n",
        " \n",
        "# reshape X to be [samples, time steps, features]\n",
        "X = torch.tensor(dataX, dtype=torch.float32).reshape(n_patterns, seq_length, 1)\n",
        "X = X / float(n_vocab)\n",
        "y = torch.tensor(dataY)\n",
        "print(X.shape, y.shape)\n",
        "print(X[:2])"
      ]
    },
    {
      "cell_type": "code",
      "execution_count": 7,
      "metadata": {
        "id": "iEDFcjRp5JzR"
      },
      "outputs": [],
      "source": [
        "import torch.optim as optim\n",
        "import torch.utils.data as data\n",
        " \n",
        "class CharModel(nn.Module):\n",
        "    def __init__(self):\n",
        "        super().__init__()\n",
        "        self.lstm = nn.Sequential(\n",
        "            nn.LSTM(input_size=1,\n",
        "                    hidden_size=256,\n",
        "                    num_layers=2,\n",
        "                    batch_first=True, \n",
        "                    dropout = 0.2) \n",
        "        )\n",
        "        self.linear = nn.Sequential(\n",
        "            nn.Dropout(0.2),\n",
        "            nn.Linear(256, n_vocab) \n",
        "        )\n",
        "        '''\n",
        "        self.lstm = nn.LSTM(input_size=1, hidden_size=256, num_layers=2, batch_first=True, dropout = 0.2)\n",
        "        self.dropout = nn.Dropout(0.2)\n",
        "        self.linear = nn.Linear(256, n_vocab)\n",
        "        '''\n",
        "    def forward(self, x):\n",
        "        x, _ = self.lstm(x)\n",
        "        # take only the last output\n",
        "        x = x[:, -1, :]\n",
        "        # produce output\n",
        "        # x = self.linear(self.dropout(x))\n",
        "        x = self.linear(x)\n",
        "        return x"
      ]
    },
    {
      "cell_type": "code",
      "source": [
        "device = torch.device(\"cuda:0\" if torch.cuda.is_available() else \"cpu\")\n",
        "print(device)"
      ],
      "metadata": {
        "colab": {
          "base_uri": "https://localhost:8080/"
        },
        "id": "iDUeXXUonnQd",
        "outputId": "9b92a9c7-fdfd-459f-e727-c1621535a23a"
      },
      "execution_count": 8,
      "outputs": [
        {
          "output_type": "stream",
          "name": "stdout",
          "text": [
            "cuda:0\n"
          ]
        }
      ]
    },
    {
      "cell_type": "code",
      "execution_count": null,
      "metadata": {
        "colab": {
          "base_uri": "https://localhost:8080/"
        },
        "id": "2ue9o3Yu5JxD",
        "outputId": "9e0b9c16-e924-48f5-cdcd-b49dab06cb43"
      },
      "outputs": [
        {
          "output_type": "stream",
          "name": "stdout",
          "text": [
            "Epoch : 0 | Train loss :  873182.1875\n",
            "Epoch : 0 | Test loss :  791339.25\n",
            "Epoch : 1 | Train loss :  1635927.5\n",
            "Epoch : 1 | Test loss :  692282.875\n"
          ]
        }
      ],
      "source": [
        "n_epochs = 20\n",
        "batch_size = 64\n",
        "model = CharModel()\n",
        "model.to(device)\n",
        " \n",
        "optimizer = optim.Adam(model.parameters())\n",
        "loss_fn = nn.CrossEntropyLoss(reduction=\"sum\")\n",
        "loader = data.DataLoader(data.TensorDataset(X, y), shuffle=True, batch_size=batch_size)\n",
        " \n",
        "best_model = None\n",
        "best_loss = np.inf\n",
        "train_loss = 0\n",
        "for epoch in range(n_epochs):\n",
        "    model.train()\n",
        "    for X_batch, y_batch in loader:\n",
        "        y_pred = model(X_batch.to(device))\n",
        "        loss = loss_fn(y_pred, y_batch.to(device))\n",
        "        train_loss += loss\n",
        "        optimizer.zero_grad()\n",
        "        loss.backward()\n",
        "        optimizer.step()\n",
        "    print(f\"Epoch : {epoch} | Train loss :  {train_loss}\")\n",
        "    # Validation\n",
        "    model.eval()\n",
        "    loss = 0\n",
        "    with torch.no_grad():\n",
        "        for X_batch, y_batch in loader:\n",
        "            y_pred = model(X_batch.to(device))\n",
        "            loss += loss_fn(y_pred, y_batch.to(device))\n",
        "        if loss < best_loss:\n",
        "            best_loss = loss\n",
        "            best_model = model.state_dict()\n",
        "        print(f\"Epoch : {epoch} | Test loss :  {loss}\")\n",
        " \n",
        "torch.save([best_model, char_to_int], \"single-char.pth\")"
      ]
    },
    {
      "cell_type": "code",
      "execution_count": null,
      "metadata": {
        "id": "s9_HeWCEACSn",
        "colab": {
          "base_uri": "https://localhost:8080/"
        },
        "outputId": "4c22dc6f-eaba-4efc-825b-b02b2846a881"
      },
      "outputs": [
        {
          "output_type": "stream",
          "name": "stdout",
          "text": [
            "in: “où est ma chatte?” which\n",
            "was the first sentence in her french lesson-book. the mouse gave a\n",
            "sud\n"
          ]
        }
      ],
      "source": [
        "seq_length = 100\n",
        "start = np.random.randint(0, len(raw_text)-seq_length)\n",
        "prompt = raw_text[start:start+seq_length]\n",
        "print(prompt)"
      ]
    },
    {
      "cell_type": "code",
      "execution_count": null,
      "metadata": {
        "id": "sO9VZk6Z5Ju1",
        "colab": {
          "base_uri": "https://localhost:8080/"
        },
        "outputId": "bcb29643-8639-45ce-c724-f2b203a088d2"
      },
      "outputs": [
        {
          "output_type": "stream",
          "name": "stdout",
          "text": [
            "Prompt: \"ow smaller, i can creep under the door; so either way i’ll\n",
            "get into the garden, and i don’t care whi\"\n",
            "ne you the white rabbit iad a little better of the sea—”\n",
            "\n",
            "“i dan’t be anoo iare in the same the same that iise all the sueen of the semeskerg was the march hare and the march hare and the march hare and the march hare and the march hare and the march hare and the march hare and the march hare and the march hare and the march hare and the march hare and the march hare and the march hare and the march hare and the march hare and t"
          ]
        }
      ],
      "source": [
        "# Generation using the trained model\n",
        "best_model, char_to_int = torch.load(\"single-char.pth\")\n",
        "n_vocab = len(char_to_int)\n",
        "int_to_char = dict((i, c) for c, i in char_to_int.items())\n",
        "model.load_state_dict(best_model)\n",
        " \n",
        "# randomly generate a prompt\n",
        "filename = \"wonderland.txt\"\n",
        "seq_length = 100\n",
        "raw_text = open(filename, 'r', encoding='utf-8').read()\n",
        "raw_text = raw_text.lower()\n",
        "start = np.random.randint(0, len(raw_text)-seq_length)\n",
        "prompt = raw_text[start:start+seq_length]\n",
        "pattern = [char_to_int[c] for c in prompt]\n",
        " \n",
        "model.eval()\n",
        "print('Prompt: \"%s\"' % prompt)\n",
        "with torch.no_grad():\n",
        "    for i in range(1000):\n",
        "        # format input array of int into PyTorch tensor\n",
        "        x = np.reshape(pattern, (1, len(pattern), 1)) / float(n_vocab)\n",
        "        x = torch.tensor(x, dtype=torch.float32)\n",
        "        # generate logits as output from the model\n",
        "        prediction = model(x.to(device))\n",
        "        # convert logits into one character\n",
        "        index = int(prediction.argmax())\n",
        "        result = int_to_char[index]\n",
        "        print(result, end=\"\")\n",
        "        # append the new character into the prompt for the next iteration\n",
        "        pattern.append(index)\n",
        "        pattern = pattern[1:]\n",
        "print()\n",
        "print(\"Done.\")"
      ]
    },
    {
      "cell_type": "code",
      "execution_count": null,
      "metadata": {
        "id": "6s2ZF24i5Jsq"
      },
      "outputs": [],
      "source": []
    }
  ],
  "metadata": {
    "colab": {
      "provenance": [],
      "authorship_tag": "ABX9TyPiN4Xb6w5AAgJx9WWwx36v",
      "include_colab_link": true
    },
    "kernelspec": {
      "display_name": "Python 3",
      "name": "python3"
    },
    "language_info": {
      "name": "python"
    },
    "accelerator": "GPU",
    "gpuClass": "standard"
  },
  "nbformat": 4,
  "nbformat_minor": 0
}